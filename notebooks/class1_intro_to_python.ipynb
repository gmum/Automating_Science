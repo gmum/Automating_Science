{
 "cells": [
  {
   "cell_type": "markdown",
   "metadata": {},
   "source": [
    "# Class 1 - Hello Python"
   ]
  },
  {
   "cell_type": "markdown",
   "metadata": {},
   "source": [
    "Welcome, let me introduce you to Python. Feel free to skip it if you are familiar with this awesome programming language"
   ]
  },
  {
   "cell_type": "markdown",
   "metadata": {},
   "source": [
    "If you want to run anything from the console, simply put \"!\" before the command"
   ]
  },
  {
   "cell_type": "code",
   "execution_count": null,
   "metadata": {},
   "outputs": [],
   "source": [
    "!python -V"
   ]
  },
  {
   "cell_type": "markdown",
   "metadata": {},
   "source": [
    "If you need to install any packages:\n",
    "```\n",
    "!pip install name_package\n",
    "```"
   ]
  },
  {
   "cell_type": "markdown",
   "metadata": {},
   "source": [
    "# Arithmetic"
   ]
  },
  {
   "cell_type": "markdown",
   "metadata": {},
   "source": [
    "In python each variable has assossiated"
   ]
  },
  {
   "cell_type": "code",
   "execution_count": null,
   "metadata": {},
   "outputs": [],
   "source": [
    "a = 3\n",
    "print(type(a))\n",
    "b = 3.14\n",
    "print(b, type(b))"
   ]
  },
  {
   "cell_type": "markdown",
   "metadata": {},
   "source": [
    "Basic arithmetic operations are built into the Python langauge. Here are some examples. In particular, note that exponentiation is done with the ** operator."
   ]
  },
  {
   "cell_type": "code",
   "execution_count": null,
   "metadata": {},
   "outputs": [],
   "source": [
    "a = 12\n",
    "b = 2\n",
    "\n",
    "print(a + b)\n",
    "print(a**b)\n",
    "print(a/b)\n",
    "print(a * (-1))\n",
    "print(round(b+0.3))\n",
    "print(round(b+0.5))\n",
    "print(round(b+0.8))"
   ]
  },
  {
   "cell_type": "code",
   "execution_count": null,
   "metadata": {},
   "outputs": [],
   "source": [
    "n = 19\n",
    "bin(n) # returns binary representation"
   ]
  },
  {
   "cell_type": "markdown",
   "metadata": {},
   "source": [
    "Lists are the easiest data structures to keep objects together"
   ]
  },
  {
   "cell_type": "code",
   "execution_count": null,
   "metadata": {},
   "outputs": [],
   "source": [
    "x = [1, 2, 3, 4]\n",
    "y = [5, 6, 7, 8]\n",
    "\n",
    "x + y"
   ]
  },
  {
   "cell_type": "markdown",
   "metadata": {},
   "source": [
    "Accessing the elements"
   ]
  },
  {
   "cell_type": "code",
   "execution_count": null,
   "metadata": {},
   "outputs": [],
   "source": [
    "longer_list = x + y"
   ]
  },
  {
   "cell_type": "code",
   "execution_count": null,
   "metadata": {},
   "outputs": [],
   "source": [
    "longer_list[0], longer_list[1]"
   ]
  },
  {
   "cell_type": "code",
   "execution_count": null,
   "metadata": {},
   "outputs": [],
   "source": [
    "longer_list[-1], longer_list[-3]"
   ]
  },
  {
   "cell_type": "markdown",
   "metadata": {},
   "source": [
    "longer_list[0:2]"
   ]
  },
  {
   "cell_type": "code",
   "execution_count": null,
   "metadata": {},
   "outputs": [],
   "source": [
    "longer_list[1:], longer_list[:5], longer_list[1:-2], longer_list[1:-2:2], longer_list[1::3]"
   ]
  },
  {
   "cell_type": "markdown",
   "metadata": {},
   "source": [
    "Iterate over list"
   ]
  },
  {
   "cell_type": "code",
   "execution_count": null,
   "metadata": {},
   "outputs": [],
   "source": [
    "my_list = [1, \"two\", 3.0]\n",
    "for element in my_list:\n",
    "    print(element)"
   ]
  },
  {
   "cell_type": "code",
   "execution_count": null,
   "metadata": {},
   "outputs": [],
   "source": [
    "all_digits = list(range(10)) # from 0 [incl] to 10 [excl]\n",
    "for i in all_digits:\n",
    "    print(\"now, it is\", i)"
   ]
  },
  {
   "cell_type": "markdown",
   "metadata": {},
   "source": [
    "# Functions/Methods in Python"
   ]
  },
  {
   "cell_type": "code",
   "execution_count": null,
   "metadata": {},
   "outputs": [],
   "source": [
    "def name_of_function(argument1, argument2, default_argument=5):\n",
    "    return argument1 + argument2 - default_argument"
   ]
  },
  {
   "cell_type": "code",
   "execution_count": null,
   "metadata": {},
   "outputs": [],
   "source": [
    "a, b, c = 4, 2, 7\n",
    "name_of_function(a, b, c)"
   ]
  },
  {
   "cell_type": "code",
   "execution_count": null,
   "metadata": {},
   "outputs": [],
   "source": [
    "# what will be the results of the expression below? run the cell to verify your claim\n",
    "name_of_function(a, b)"
   ]
  },
  {
   "cell_type": "markdown",
   "metadata": {},
   "source": [
    "### Exercise A"
   ]
  },
  {
   "cell_type": "markdown",
   "metadata": {},
   "source": [
    "Write a function that calculates the factorial of every number in the list. The output should be of the the same length as the input"
   ]
  },
  {
   "cell_type": "code",
   "execution_count": null,
   "metadata": {},
   "outputs": [],
   "source": [
    "# write your code"
   ]
  },
  {
   "cell_type": "markdown",
   "metadata": {},
   "source": [
    "# Types and Classes"
   ]
  },
  {
   "cell_type": "code",
   "execution_count": null,
   "metadata": {},
   "outputs": [],
   "source": [
    "various_types = 5, 5.0, 3j, True\n",
    "number_int, number_float, number_imaginary, boolean_var = various_types\n",
    "print(type(number_int), type(number_float), type(number_imaginary), type(boolean_var))"
   ]
  },
  {
   "cell_type": "code",
   "execution_count": null,
   "metadata": {},
   "outputs": [],
   "source": [
    "x = [1, 2, 3]\n",
    "type(x), type(various_types), type(list(various_types)) # lists are lists regardless of the underlying data"
   ]
  },
  {
   "cell_type": "markdown",
   "metadata": {},
   "source": [
    "Other useful type of data"
   ]
  },
  {
   "cell_type": "code",
   "execution_count": null,
   "metadata": {},
   "outputs": [],
   "source": [
    "my_name = \"Mateusz\"\n",
    "print(type(my_name))\n",
    "\n",
    "mix = (\"abc\", 1, 2.5) # tuples are useful when want to return couple of expressions\n",
    "print(type(mix))"
   ]
  },
  {
   "cell_type": "code",
   "execution_count": null,
   "metadata": {},
   "outputs": [],
   "source": [
    "# but remember, you can't modify it later\n",
    "mix[1] = 5"
   ]
  },
  {
   "cell_type": "markdown",
   "metadata": {},
   "source": [
    "Boolean objects are binary variables"
   ]
  },
  {
   "cell_type": "code",
   "execution_count": null,
   "metadata": {},
   "outputs": [],
   "source": [
    "print(boolean_var)\n",
    "if boolean_var:\n",
    "    print(boolean_var)\n",
    "    if boolean_var is True:\n",
    "        print(boolean_var)\n",
    "        if boolean_var == 1:\n",
    "            boolean_var = False\n",
    "            print(boolean_var)\n",
    "            if not boolean_var:\n",
    "                print(boolean_var)\n",
    "                if boolean_var == False:\n",
    "                    print(boolean_var)\n",
    "                    boolean_var = ~boolean_var\n",
    "                    if boolean_var:\n",
    "                        print(boolean_var)\n"
   ]
  },
  {
   "cell_type": "markdown",
   "metadata": {},
   "source": [
    "Similarly, Python supports standard logic operations"
   ]
  },
  {
   "cell_type": "code",
   "execution_count": null,
   "metadata": {},
   "outputs": [],
   "source": [
    "magic_number = 6\n",
    "print(magic_number % 2 == 0 and magic_number % 3 == 0)\n",
    "print(magic_number % 2 == 0 and magic_number % 5 == 0)\n",
    "print(magic_number % 2 == 0 or magic_number % 5 == 0)"
   ]
  },
  {
   "cell_type": "code",
   "execution_count": null,
   "metadata": {},
   "outputs": [],
   "source": []
  },
  {
   "cell_type": "markdown",
   "metadata": {},
   "source": [
    "## Custom Classes"
   ]
  },
  {
   "cell_type": "markdown",
   "metadata": {},
   "source": [
    "You can freely create your own type of data"
   ]
  },
  {
   "cell_type": "code",
   "execution_count": null,
   "metadata": {},
   "outputs": [],
   "source": [
    "class Person():\n",
    "    # this method is called constructor\n",
    "    def __init__(self, name: str, age: int, interests, favourite_animal=\"dog\") -> None: # note that we do not put any type constraints on interest argument\n",
    "        self.name = name\n",
    "        self.age = age\n",
    "        self.interests = interests\n",
    "        self.favourite_animal = favourite_animal\n",
    "\n",
    "    def return_age(self):\n",
    "        return self.age\n",
    "    \n",
    "    def introduction(self):\n",
    "        greeting = \"Hello, my name is \" + self.name + \". I work at the JU. \"\n",
    "        greeting = greeting + \"\\t My fav animal is \"\n",
    "        greeting += self.favourite_animal\n",
    "        greeting += \".\\nFrom new line: And I'm \" + str(self.return_age()) + \". \"\n",
    "        greeting += f\"Again I'm {self.return_age()}\" # no need of str here\n",
    "        return greeting"
   ]
  },
  {
   "cell_type": "markdown",
   "metadata": {},
   "source": [
    "### Exercise B"
   ]
  },
  {
   "cell_type": "markdown",
   "metadata": {},
   "source": [
    "Create yourself (object of type Person) and play around with the provided methods. "
   ]
  },
  {
   "cell_type": "code",
   "execution_count": null,
   "metadata": {},
   "outputs": [],
   "source": [
    "# write your code"
   ]
  },
  {
   "cell_type": "code",
   "execution_count": null,
   "metadata": {},
   "outputs": [],
   "source": [
    "mat = Person(\"mati\", 27, [\"tennis\", \"ml\"], \"bear\")"
   ]
  },
  {
   "cell_type": "code",
   "execution_count": null,
   "metadata": {},
   "outputs": [],
   "source": [
    "print(mat.introduction())"
   ]
  },
  {
   "cell_type": "markdown",
   "metadata": {},
   "source": [
    "if you would like to print your object you will be surprised, but instead get the address in the memory [try yourself by print(_name_of_your_object_)]. Add the following definition to your code to support custom string representation:\n",
    "```\n",
    "def __repr__(self):\n",
    "    # return self.introduction()\n",
    "    return f\"Person of name {self.name}\"\n",
    "```"
   ]
  },
  {
   "cell_type": "code",
   "execution_count": null,
   "metadata": {},
   "outputs": [],
   "source": []
  },
  {
   "cell_type": "markdown",
   "metadata": {},
   "source": [
    "# Numpy"
   ]
  },
  {
   "cell_type": "markdown",
   "metadata": {},
   "source": [
    "The Python language has only very basic operations. Most math functions are in various math libraries. The numpy library is convenient library. This next cell shows how to import numpy with the prefix np, then use it to call a common mathematical functions.\n",
    "\n"
   ]
  },
  {
   "cell_type": "code",
   "execution_count": null,
   "metadata": {},
   "outputs": [],
   "source": [
    "import numpy as np # this is how we import libraries"
   ]
  },
  {
   "cell_type": "code",
   "execution_count": null,
   "metadata": {},
   "outputs": [],
   "source": [
    "# mathematical constants\n",
    "print(np.pi)\n",
    "print(np.e)\n",
    "\n",
    "# trignometric functions\n",
    "angle = np.pi/4\n",
    "print(np.sin(angle))\n",
    "print(np.cos(angle))\n",
    "print(np.tan(angle))"
   ]
  },
  {
   "cell_type": "markdown",
   "metadata": {},
   "source": [
    "x_list = [1, 2, 3, 4]\n",
    "x_numpy_list = np.array(x_list)\n",
    "\n",
    "np.sum(x)\n",
    "np.sum(x_numpy_list)\n"
   ]
  },
  {
   "cell_type": "code",
   "execution_count": null,
   "metadata": {},
   "outputs": [],
   "source": [
    "x = np.array([1,2,3,4])"
   ]
  },
  {
   "cell_type": "code",
   "execution_count": null,
   "metadata": {},
   "outputs": [],
   "source": [
    "input_string = input(\"Please provide your favourite array [separated by spaces] \")\n",
    "l  = input_string.split()\n",
    "y = np.array(l, dtype=np.float32) # you can control the type of data"
   ]
  },
  {
   "cell_type": "code",
   "execution_count": null,
   "metadata": {},
   "outputs": [],
   "source": [
    "y"
   ]
  },
  {
   "cell_type": "code",
   "execution_count": null,
   "metadata": {},
   "outputs": [],
   "source": [
    "print(np.add(x,y))\n",
    "print(np.dot(x,y))"
   ]
  },
  {
   "cell_type": "markdown",
   "metadata": {},
   "source": [
    "### Exercise C"
   ]
  },
  {
   "cell_type": "markdown",
   "metadata": {},
   "source": [
    "Calculate "
   ]
  },
  {
   "cell_type": "code",
   "execution_count": null,
   "metadata": {},
   "outputs": [],
   "source": [
    "# write your code"
   ]
  },
  {
   "cell_type": "markdown",
   "metadata": {},
   "source": [
    "### Going up with dimensions"
   ]
  },
  {
   "cell_type": "markdown",
   "metadata": {},
   "source": [
    "Accessing is following the standard manner as in Python list. For 2D (and more!) arrays use \",\" to indicate the dimension."
   ]
  },
  {
   "cell_type": "code",
   "execution_count": null,
   "metadata": {},
   "outputs": [],
   "source": [
    "simple_1d_array = np.array([1.2, 2, 5])\n",
    "print(sum(simple_1d_array))\n",
    "simple_1d_array[1] += 3\n",
    "print(sum(simple_1d_array))\n",
    "\n",
    "# check\n",
    "# simple_1d_array[1] += 3\n",
    "# print(sum(simple_1d_array))"
   ]
  },
  {
   "cell_type": "code",
   "execution_count": null,
   "metadata": {},
   "outputs": [],
   "source": [
    "simple_matrix = np.array([[1,2,3],\n",
    "                          [4,5,6],\n",
    "                          [7,8,9]])\n",
    "print(simple_matrix.shape)"
   ]
  },
  {
   "cell_type": "code",
   "execution_count": null,
   "metadata": {},
   "outputs": [],
   "source": [
    "# simple_matrix[0] = 5 # won't work!\n",
    "simple_matrix[0, 1] = 5 # 0th row, 1st col\n",
    "zeroth_row = simple_matrix[0, :] # same simple_matrix[0]\n",
    "zeroth_col = simple_matrix[:, 0]"
   ]
  },
  {
   "cell_type": "markdown",
   "metadata": {},
   "source": [
    "Notice that although you can have elements of different types in Python, you can't mix up the types within the Numpy Array. "
   ]
  },
  {
   "cell_type": "code",
   "execution_count": null,
   "metadata": {},
   "outputs": [],
   "source": [
    "lst = [\"abc\", 2]\n",
    "lst_np = np.array(range(5))\n",
    "print(lst_np)\n",
    "lst_np[1] = 10.0\n",
    "print(lst_np)"
   ]
  },
  {
   "cell_type": "code",
   "execution_count": null,
   "metadata": {},
   "outputs": [],
   "source": [
    "lst_np[2] = \"qwerty\" # error!"
   ]
  },
  {
   "cell_type": "markdown",
   "metadata": {},
   "source": [
    "Some important and efficient way to construct more complex numpy arrays:"
   ]
  },
  {
   "cell_type": "code",
   "execution_count": null,
   "metadata": {},
   "outputs": [],
   "source": [
    "np_zeros = np.zeros((2,3)) # 2 is the number of rows, 3 is the number of columns\n",
    "np_ones = np.ones(4) # 1d array of ones\n",
    "np_like = np.ones_like(np_zeros) # np.zeros_like works the same\n",
    "np_random = np.random.random((10,10)) # random decimal numbers\n",
    "np_random_N = np.random.rand(3,2) # from standard Gaussian distribution\n",
    "np_range_to = np.arange(3) # from 0 [incl] up to 3 [excl]\n",
    "np_range_from = np.arange(3,7) # from 3 to 7. again: [incl, excl)\n",
    "np_range_step = np.arange(3,7,2) # every second number\n",
    "np_empty = np.empty((2, 3)) # remember that you initialize with some garbage"
   ]
  },
  {
   "cell_type": "markdown",
   "metadata": {},
   "source": [
    "Try to predict: what will be the result of the following code?\n",
    "```\n",
    "a = np.array([1,2,3])\n",
    "arr = np.r_[np.repeat(a, 3), np.tile(a, 3)]\n",
    "print(arr)\n",
    "```\n",
    "Hint: np.r_ is combining two numpy arrays into one"
   ]
  },
  {
   "cell_type": "markdown",
   "metadata": {},
   "source": [
    "### Exercise D."
   ]
  },
  {
   "cell_type": "markdown",
   "metadata": {},
   "source": [
    "Create 3 $\\times$ 3 array of all True's"
   ]
  },
  {
   "cell_type": "markdown",
   "metadata": {},
   "source": [
    "### Working along axis"
   ]
  },
  {
   "cell_type": "code",
   "execution_count": null,
   "metadata": {},
   "outputs": [],
   "source": [
    "my_matrix = np.array(range(10)).reshape((5,-1)) # here -1 means 2, no need to specify as it is unambiguous\n",
    "print(my_matrix)\n",
    "print(\"shape\", my_matrix.shape)"
   ]
  },
  {
   "cell_type": "code",
   "execution_count": null,
   "metadata": {},
   "outputs": [],
   "source": [
    "print(\"total average\", np.mean(my_matrix))\n",
    "print(\"average over rows (so average of each column)\", np.mean(my_matrix, axis=0))\n",
    "print(\"average over cols (so average of each row)\", np.mean(my_matrix, axis=1))"
   ]
  },
  {
   "cell_type": "markdown",
   "metadata": {},
   "source": [
    "## Some Numpy arithmetics"
   ]
  },
  {
   "cell_type": "code",
   "execution_count": null,
   "metadata": {},
   "outputs": [],
   "source": [
    "a = np.random.randint(low=2, high=10, size=(2,4))\n",
    "b = np.random.normal(loc=1.0, scale=0.5, size=(4,2))\n",
    "# b = np.random.normal(loc=np.array([1.5, -0.5]), scale=np.random.random((2,2)), size=)"
   ]
  },
  {
   "cell_type": "code",
   "execution_count": null,
   "metadata": {},
   "outputs": [],
   "source": [
    "bt = b.T\n",
    "c = np.dot(a, b)\n",
    "d = a @ b\n",
    "e = a * b.T"
   ]
  },
  {
   "cell_type": "markdown",
   "metadata": {},
   "source": [
    "### Exercise E"
   ]
  },
  {
   "cell_type": "markdown",
   "metadata": {},
   "source": [
    "Replace all odd elements (ignore floats) with -1 \n",
    "(hint: use matrix[condition] to select the relevant cells)\n",
    "\n",
    "(*) replace even elements with column means"
   ]
  },
  {
   "cell_type": "code",
   "execution_count": null,
   "metadata": {},
   "outputs": [],
   "source": [
    "my_matrix = np.array([[1,2,10.4], [4,7,8], [-1,1.5,0]])"
   ]
  },
  {
   "cell_type": "markdown",
   "metadata": {},
   "source": [
    "### Exercise F"
   ]
  },
  {
   "cell_type": "markdown",
   "metadata": {},
   "source": [
    "Stack arrays a and b vertically and horizontally"
   ]
  },
  {
   "cell_type": "code",
   "execution_count": null,
   "metadata": {},
   "outputs": [],
   "source": [
    "a = np.arange(10).reshape(2,-1)\n",
    "b = np.repeat(1, 10).reshape(2,-1)"
   ]
  },
  {
   "cell_type": "markdown",
   "metadata": {},
   "source": [
    "## Diving deep\n",
    "https://numpy.org/doc/stable/user/quickstart.html\n"
   ]
  },
  {
   "cell_type": "markdown",
   "metadata": {},
   "source": [
    "# Plotting"
   ]
  },
  {
   "cell_type": "code",
   "execution_count": null,
   "metadata": {},
   "outputs": [],
   "source": [
    "from matplotlib import pyplot as plt\n",
    "# import seaborn as sns"
   ]
  },
  {
   "cell_type": "markdown",
   "metadata": {},
   "source": [
    "### Data to plot"
   ]
  },
  {
   "cell_type": "code",
   "execution_count": null,
   "metadata": {},
   "outputs": [],
   "source": [
    "xs = np.linspace(start=0.0, stop=1.0, num=101)\n",
    "ys = np.cos(xs)\n",
    "zs = np.sin(xs)"
   ]
  },
  {
   "cell_type": "markdown",
   "metadata": {},
   "source": [
    "### Plot"
   ]
  },
  {
   "cell_type": "markdown",
   "metadata": {},
   "source": [
    "We use function plot to plot the data. Notice that by default, x-axis corresponds to indices"
   ]
  },
  {
   "cell_type": "code",
   "execution_count": null,
   "metadata": {},
   "outputs": [],
   "source": [
    "plt.plot(xs)"
   ]
  },
  {
   "cell_type": "markdown",
   "metadata": {},
   "source": [
    "In order to put couple of subplot on one plot use subplot"
   ]
  },
  {
   "cell_type": "code",
   "execution_count": null,
   "metadata": {},
   "outputs": [],
   "source": [
    "style = 0 # try 1 and 2 for visual improvements\n",
    "if style == 1:\n",
    "    plt.figure(figsize=(18,1))\n",
    "if style == 2:\n",
    "    plt.figure(figsize=(18,5))\n",
    "plt.subplot(1, 3, 1) #nrows, ncols, index\n",
    "plt.plot(xs)\n",
    "plt.subplot(1, 3, 2)\n",
    "plt.plot(ys)\n",
    "plt.subplot(1, 3, 3)\n",
    "plt.plot(zs)\n"
   ]
  },
  {
   "cell_type": "code",
   "execution_count": null,
   "metadata": {},
   "outputs": [],
   "source": [
    "plt.plot(xs)\n",
    "plt.clf() # cleans so the previous plot does not matter\n",
    "plt.plot(ys, c=\"r\", label=\"ys\")\n",
    "plt.plot(zs, c=\"g\", label=\"zs\")\n",
    "plt.xlim(10, 80)\n",
    "plt.xlabel(\"cutted indices\")\n",
    "plt.ylabel(\"some vals\")\n",
    "plt.legend()"
   ]
  },
  {
   "cell_type": "markdown",
   "metadata": {},
   "source": [
    "### Scatter"
   ]
  },
  {
   "cell_type": "code",
   "execution_count": null,
   "metadata": {},
   "outputs": [],
   "source": [
    "plt.scatter(ys, zs, s=5*xs, c=\"orange\", marker=\"x\")"
   ]
  },
  {
   "cell_type": "markdown",
   "metadata": {},
   "source": [
    "### Exercise G."
   ]
  },
  {
   "cell_type": "markdown",
   "metadata": {},
   "source": [
    "Create 2 $\\times$ 10 data samples from two dimensional Gaussians and plot them using different colours. Indicate the means. "
   ]
  },
  {
   "cell_type": "markdown",
   "metadata": {},
   "source": []
  }
 ],
 "metadata": {
  "kernelspec": {
   "display_name": "basic",
   "language": "python",
   "name": "python3"
  },
  "language_info": {
   "codemirror_mode": {
    "name": "ipython",
    "version": 3
   },
   "file_extension": ".py",
   "mimetype": "text/x-python",
   "name": "python",
   "nbconvert_exporter": "python",
   "pygments_lexer": "ipython3",
   "version": "3.9.15"
  }
 },
 "nbformat": 4,
 "nbformat_minor": 2
}
